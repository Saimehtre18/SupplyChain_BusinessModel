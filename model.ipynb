{
 "cells": [
  {
   "cell_type": "code",
   "execution_count": 1,
   "id": "8bc8e971",
   "metadata": {},
   "outputs": [],
   "source": [
    "#import data manupalation libraries\n",
    "import numpy as np\n",
    "import pandas as pd\n",
    "\n",
    "#import data visualization libraries\n",
    "import matplotlib.pyplot as plt\n",
    "import seaborn as sns\n",
    "\n",
    "#import filter warnings libraries\n",
    "import warnings\n",
    "warnings.filterwarnings('ignore')\n",
    "\n",
    "#import logging libraries\n",
    "import logging \n",
    "logging.basicConfig(level=logging.INFO,\n",
    "                    filemode='w',\n",
    "                    filename='model.log',\n",
    "                    format='%(asctime)s - %(levelname)s - %(message)s',force=True)"
   ]
  },
  {
   "cell_type": "code",
   "execution_count": null,
   "id": "f3ddc352",
   "metadata": {},
   "outputs": [],
   "source": [
    "url=\"\""
   ]
  }
 ],
 "metadata": {
  "kernelspec": {
   "display_name": "base",
   "language": "python",
   "name": "python3"
  },
  "language_info": {
   "codemirror_mode": {
    "name": "ipython",
    "version": 3
   },
   "file_extension": ".py",
   "mimetype": "text/x-python",
   "name": "python",
   "nbconvert_exporter": "python",
   "pygments_lexer": "ipython3",
   "version": "3.12.7"
  }
 },
 "nbformat": 4,
 "nbformat_minor": 5
}
